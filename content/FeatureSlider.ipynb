{
 "cells": [
  {
   "cell_type": "markdown",
   "id": "e2f061a7",
   "metadata": {},
   "source": [
    "# A new IMG\n",
    "\n",
    "![](https://images.seeklogo.com/logo-png/14/1/umbrella-corporation-residentevil-logo-png_seeklogo-144673.png)"
   ]
  },
  {
   "cell_type": "code",
   "execution_count": null,
   "id": "b86dc6bd",
   "metadata": {},
   "outputs": [],
   "source": [
    "%pip install -q ipywidgets\n",
    "\n",
    "# (Optional but recommended) warm-up big libs so the kernel loads them first\n",
    "import numpy as _np, pandas as _pd, matplotlib.pyplot as _plt  # noqa: F401\n",
    "\n",
    "# Import the module from the same folder as the notebook\n",
    "from feature_app import main\n",
    "main()\n"
   ]
  }
 ],
 "metadata": {
  "language_info": {
   "name": "python"
  }
 },
 "nbformat": 4,
 "nbformat_minor": 5
}
