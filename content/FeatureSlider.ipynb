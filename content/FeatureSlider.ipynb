{
 "cells": [
  {
   "cell_type": "markdown",
   "id": "e2f061a7",
   "metadata": {},
   "source": [
    "# A new IMG\n",
    "\n",
    "<img src=\"https://images.seeklogo.com/logo-png/14/1/umbrella-corporation-residentevil-logo-png_seeklogo-144673.png\" width=\"10%\">"
   ]
  },
  {
   "cell_type": "code",
   "execution_count": null,
   "id": "b86dc6bd",
   "metadata": {},
   "outputs": [],
   "source": [
    "\n",
    "# Hide inputs (you can toggle by setting SHOW_CODE=True and re-running this cell)\n",
    "from IPython.display import HTML, display\n",
    "SHOW_CODE = False\n",
    "_style_id = \"hide-code-style\"\n",
    "\n",
    "def _set_code_visibility(show: bool):\n",
    "    css = \"\" if show else \"div.jp-Cell-inputWrapper { display: none; }\"\n",
    "    html = f\"<style id='{_style_id}'>{css}</style>\"\n",
    "    display(HTML(html))\n",
    "\n",
    "_set_code_visibility(SHOW_CODE)\n",
    "\n",
    "\n",
    "\n",
    "%pip install -q ipywidgets\n",
    "\n",
    "# (Optional but recommended) warm-up big libs so the kernel loads them first\n",
    "import numpy as _np, pandas as _pd, matplotlib.pyplot as _plt  # noqa: F401\n",
    "\n",
    "# Import the module from the same folder as the notebook\n",
    "from feature_app import main\n",
    "main()\n"
   ]
  }
 ],
 "metadata": {
  "language_info": {
   "name": "python"
  }
 },
 "nbformat": 4,
 "nbformat_minor": 5
}
