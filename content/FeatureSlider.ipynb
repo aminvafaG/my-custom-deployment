{
 "cells": [
  {
   "cell_type": "markdown",
   "id": "e2f061a7",
   "metadata": {},
   "source": [
    "# A new IMG\n",
    "\n",
    "![](https://images.seeklogo.com/logo-png/14/1/umbrella-corporation-residentevil-logo-png_seeklogo-144673.png)"
   ]
  },
  {
   "cell_type": "code",
   "execution_count": null,
   "id": "b86dc6bd",
   "metadata": {},
   "outputs": [],
   "source": [
    "from feature_app import main\n",
    "main()"
   ]
  }
 ],
 "metadata": {
  "language_info": {
   "name": "python"
  }
 },
 "nbformat": 4,
 "nbformat_minor": 5
}
