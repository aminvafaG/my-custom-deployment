{
 "cells": [
  {
   "cell_type": "markdown",
   "id": "e2f061a7",
   "metadata": {},
   "source": [
    "# A new IMG\n",
    "\n",
    "<img src=\"https://images.seeklogo.com/logo-png/14/1/umbrella-corporation-residentevil-logo-png_seeklogo-144673.png\" width=\"10%\">"
   ]
  },
  {
   "cell_type": "code",
   "execution_count": null,
   "id": "b86dc6bd",
   "metadata": {},
   "outputs": [],
   "source": [
    "# 1) Toggle code visibility\n",
    "from IPython.display import HTML, display\n",
    "SHOW_CODE = False\n",
    "_style_id = \"hide-code-style\"\n",
    "def _set_code_visibility(show: bool):\n",
    "    css = (\"div.jp-Cell-inputWrapper { display: block !important; }\"\n",
    "           if show else \"div.jp-Cell-inputWrapper { display: none !important; }\")\n",
    "    html = f\"\"\"\n",
    "    <script>(function(){{\n",
    "      const old = document.getElementById(\"{_style_id}\");\n",
    "      if (old) old.remove();\n",
    "      const s = document.createElement(\"style\");\n",
    "      s.id = \"{_style_id}\";\n",
    "      s.textContent = `{css}`;\n",
    "      document.head.appendChild(s);\n",
    "    }})();</script>\"\"\"\n",
    "    display(HTML(html))\n",
    "_set_code_visibility(SHOW_CODE)\n",
    "\n",
    "# 2) Ensure ipywidgets (server uses %pip; Lite uses piplite)\n",
    "import sys\n",
    "if \"pyodide\" in sys.modules:\n",
    "    try:\n",
    "        import ipywidgets\n",
    "    except Exception:\n",
    "        import piplite\n",
    "        await piplite.install([\"ipywidgets==8.1.3\",\"traitlets>=5.3\",\"comm>=0.1\"])\n",
    "        import ipywidgets\n",
    "else:\n",
    "    # running on a server kernel; uncomment if your env lacks ipywidgets\n",
    "    # %pip install -q ipywidgets\n",
    "    import ipywidgets  # noqa: F401\n",
    "\n",
    "# 3) Warm-up heavy libs, then run your app\n",
    "import numpy as _np, pandas as _pd, matplotlib.pyplot as _plt  # noqa: F401\n",
    "from feature_app import main\n",
    "main()\n"
   ]
  }
 ],
 "metadata": {
  "language_info": {
   "name": "python"
  }
 },
 "nbformat": 4,
 "nbformat_minor": 5
}
